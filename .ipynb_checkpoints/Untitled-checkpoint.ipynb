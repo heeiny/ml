{
 "cells": [
  {
   "cell_type": "markdown",
   "id": "9721f67e",
   "metadata": {},
   "source": [
    "# skicit으로 수행하는 생존자 예측"
   ]
  },
  {
   "cell_type": "code",
   "execution_count": 24,
   "id": "5265d3c6",
   "metadata": {
    "ExecuteTime": {
     "end_time": "2022-07-02T13:10:23.775986Z",
     "start_time": "2022-07-02T13:10:17.378147Z"
    }
   },
   "outputs": [],
   "source": [
    "import pandas as pd\n",
    "import numpy as np\n",
    "from sklearn.preprocessing import StandardScaler,MinMaxScaler,RobustScaler"
   ]
  },
  {
   "cell_type": "code",
   "execution_count": 25,
   "id": "de6d76c7",
   "metadata": {
    "ExecuteTime": {
     "end_time": "2022-07-02T13:10:30.321589Z",
     "start_time": "2022-07-02T13:10:23.786223Z"
    }
   },
   "outputs": [],
   "source": [
    "import matplotlib.pyplot as plt\n",
    "import seaborn as sns\n",
    "%matplotlib inline"
   ]
  },
  {
   "cell_type": "code",
   "execution_count": 26,
   "id": "d5400c38",
   "metadata": {
    "ExecuteTime": {
     "end_time": "2022-07-02T13:10:30.428869Z",
     "start_time": "2022-07-02T13:10:30.328576Z"
    }
   },
   "outputs": [
    {
     "data": {
      "text/html": [
       "<div>\n",
       "<style scoped>\n",
       "    .dataframe tbody tr th:only-of-type {\n",
       "        vertical-align: middle;\n",
       "    }\n",
       "\n",
       "    .dataframe tbody tr th {\n",
       "        vertical-align: top;\n",
       "    }\n",
       "\n",
       "    .dataframe thead th {\n",
       "        text-align: right;\n",
       "    }\n",
       "</style>\n",
       "<table border=\"1\" class=\"dataframe\">\n",
       "  <thead>\n",
       "    <tr style=\"text-align: right;\">\n",
       "      <th></th>\n",
       "      <th>PassengerId</th>\n",
       "      <th>Survived</th>\n",
       "      <th>Pclass</th>\n",
       "      <th>Name</th>\n",
       "      <th>Sex</th>\n",
       "      <th>Age</th>\n",
       "      <th>SibSp</th>\n",
       "      <th>Parch</th>\n",
       "      <th>Ticket</th>\n",
       "      <th>Fare</th>\n",
       "      <th>Cabin</th>\n",
       "      <th>Embarked</th>\n",
       "    </tr>\n",
       "  </thead>\n",
       "  <tbody>\n",
       "    <tr>\n",
       "      <th>0</th>\n",
       "      <td>1</td>\n",
       "      <td>0</td>\n",
       "      <td>3</td>\n",
       "      <td>Braund, Mr. Owen Harris</td>\n",
       "      <td>male</td>\n",
       "      <td>22.0</td>\n",
       "      <td>1</td>\n",
       "      <td>0</td>\n",
       "      <td>A/5 21171</td>\n",
       "      <td>7.2500</td>\n",
       "      <td>NaN</td>\n",
       "      <td>S</td>\n",
       "    </tr>\n",
       "    <tr>\n",
       "      <th>1</th>\n",
       "      <td>2</td>\n",
       "      <td>1</td>\n",
       "      <td>1</td>\n",
       "      <td>Cumings, Mrs. John Bradley (Florence Briggs Th...</td>\n",
       "      <td>female</td>\n",
       "      <td>38.0</td>\n",
       "      <td>1</td>\n",
       "      <td>0</td>\n",
       "      <td>PC 17599</td>\n",
       "      <td>71.2833</td>\n",
       "      <td>C85</td>\n",
       "      <td>C</td>\n",
       "    </tr>\n",
       "    <tr>\n",
       "      <th>2</th>\n",
       "      <td>3</td>\n",
       "      <td>1</td>\n",
       "      <td>3</td>\n",
       "      <td>Heikkinen, Miss. Laina</td>\n",
       "      <td>female</td>\n",
       "      <td>26.0</td>\n",
       "      <td>0</td>\n",
       "      <td>0</td>\n",
       "      <td>STON/O2. 3101282</td>\n",
       "      <td>7.9250</td>\n",
       "      <td>NaN</td>\n",
       "      <td>S</td>\n",
       "    </tr>\n",
       "    <tr>\n",
       "      <th>3</th>\n",
       "      <td>4</td>\n",
       "      <td>1</td>\n",
       "      <td>1</td>\n",
       "      <td>Futrelle, Mrs. Jacques Heath (Lily May Peel)</td>\n",
       "      <td>female</td>\n",
       "      <td>35.0</td>\n",
       "      <td>1</td>\n",
       "      <td>0</td>\n",
       "      <td>113803</td>\n",
       "      <td>53.1000</td>\n",
       "      <td>C123</td>\n",
       "      <td>S</td>\n",
       "    </tr>\n",
       "    <tr>\n",
       "      <th>4</th>\n",
       "      <td>5</td>\n",
       "      <td>0</td>\n",
       "      <td>3</td>\n",
       "      <td>Allen, Mr. William Henry</td>\n",
       "      <td>male</td>\n",
       "      <td>35.0</td>\n",
       "      <td>0</td>\n",
       "      <td>0</td>\n",
       "      <td>373450</td>\n",
       "      <td>8.0500</td>\n",
       "      <td>NaN</td>\n",
       "      <td>S</td>\n",
       "    </tr>\n",
       "  </tbody>\n",
       "</table>\n",
       "</div>"
      ],
      "text/plain": [
       "   PassengerId  Survived  Pclass  \\\n",
       "0            1         0       3   \n",
       "1            2         1       1   \n",
       "2            3         1       3   \n",
       "3            4         1       1   \n",
       "4            5         0       3   \n",
       "\n",
       "                                                Name     Sex   Age  SibSp  \\\n",
       "0                            Braund, Mr. Owen Harris    male  22.0      1   \n",
       "1  Cumings, Mrs. John Bradley (Florence Briggs Th...  female  38.0      1   \n",
       "2                             Heikkinen, Miss. Laina  female  26.0      0   \n",
       "3       Futrelle, Mrs. Jacques Heath (Lily May Peel)  female  35.0      1   \n",
       "4                           Allen, Mr. William Henry    male  35.0      0   \n",
       "\n",
       "   Parch            Ticket     Fare Cabin Embarked  \n",
       "0      0         A/5 21171   7.2500   NaN        S  \n",
       "1      0          PC 17599  71.2833   C85        C  \n",
       "2      0  STON/O2. 3101282   7.9250   NaN        S  \n",
       "3      0            113803  53.1000  C123        S  \n",
       "4      0            373450   8.0500   NaN        S  "
      ]
     },
     "execution_count": 26,
     "metadata": {},
     "output_type": "execute_result"
    }
   ],
   "source": [
    "#titanic파일 불러오기\n",
    "\n",
    "import pandas as pd\n",
    "titanic_df = pd.read_csv('C:/apps/ml/titanic_train.csv')\n",
    "titanic_df.head()"
   ]
  },
  {
   "cell_type": "raw",
   "id": "df5e9529",
   "metadata": {},
   "source": [
    "# Passemgerid:탑승자 데이터 일련번호 \n",
    "  Survive:생존 여부  \n",
    "  pclass: 티켓의 선실 등급\n",
    "  sex:탑승자의 성별\n",
    "  name:탑승자의 이름\n",
    "  Age:탑승자의 나이\n",
    "  sibsp:같이 탑승한 형제자매 또는 배우자 인원수\n",
    "  parch:같이 탑승한 부모님 또는 어린이 인원수\n",
    "  ticket:티켓 번호\n",
    "  fare:요금\n",
    "  cabin:선실번호\n",
    "  embarked:중간 정착 항구 C=Cherboug Q=Queenstown S =Southampton"
   ]
  },
  {
   "cell_type": "code",
   "execution_count": 27,
   "id": "ede7f9be",
   "metadata": {
    "ExecuteTime": {
     "end_time": "2022-07-02T13:10:30.459372Z",
     "start_time": "2022-07-02T13:10:30.439572Z"
    }
   },
   "outputs": [],
   "source": [
    "train=titanic_df"
   ]
  },
  {
   "cell_type": "code",
   "execution_count": 28,
   "id": "e8d9f42d",
   "metadata": {
    "ExecuteTime": {
     "end_time": "2022-07-02T13:10:30.521647Z",
     "start_time": "2022-07-02T13:10:30.467325Z"
    }
   },
   "outputs": [
    {
     "name": "stdout",
     "output_type": "stream",
     "text": [
      "\n",
      " ###학습 데이터 정보### \n",
      "\n",
      "<class 'pandas.core.frame.DataFrame'>\n",
      "RangeIndex: 891 entries, 0 to 890\n",
      "Data columns (total 12 columns):\n",
      " #   Column       Non-Null Count  Dtype  \n",
      "---  ------       --------------  -----  \n",
      " 0   PassengerId  891 non-null    int64  \n",
      " 1   Survived     891 non-null    int64  \n",
      " 2   Pclass       891 non-null    int64  \n",
      " 3   Name         891 non-null    object \n",
      " 4   Sex          891 non-null    object \n",
      " 5   Age          714 non-null    float64\n",
      " 6   SibSp        891 non-null    int64  \n",
      " 7   Parch        891 non-null    int64  \n",
      " 8   Ticket       891 non-null    object \n",
      " 9   Fare         891 non-null    float64\n",
      " 10  Cabin        204 non-null    object \n",
      " 11  Embarked     889 non-null    object \n",
      "dtypes: float64(2), int64(5), object(5)\n",
      "memory usage: 83.7+ KB\n",
      "None\n"
     ]
    }
   ],
   "source": [
    "print('\\n ###학습 데이터 정보### \\n')\n",
    "print(titanic_df.info())"
   ]
  },
  {
   "cell_type": "code",
   "execution_count": 29,
   "id": "fdcc5790",
   "metadata": {
    "ExecuteTime": {
     "end_time": "2022-07-02T13:10:30.567731Z",
     "start_time": "2022-07-02T13:10:30.533193Z"
    }
   },
   "outputs": [
    {
     "data": {
      "text/plain": [
       "PassengerId      0\n",
       "Survived         0\n",
       "Pclass           0\n",
       "Name             0\n",
       "Sex              0\n",
       "Age            177\n",
       "SibSp            0\n",
       "Parch            0\n",
       "Ticket           0\n",
       "Fare             0\n",
       "Cabin          687\n",
       "Embarked         2\n",
       "dtype: int64"
      ]
     },
     "execution_count": 29,
     "metadata": {},
     "output_type": "execute_result"
    }
   ],
   "source": [
    "#결측치(Null값) 확인\n",
    "train.isnull()\n",
    "train.isnull().sum()"
   ]
  },
  {
   "cell_type": "code",
   "execution_count": 23,
   "id": "30da63c7",
   "metadata": {
    "ExecuteTime": {
     "end_time": "2022-07-02T13:09:52.920731Z",
     "start_time": "2022-07-02T13:09:52.898066Z"
    },
    "scrolled": true
   },
   "outputs": [],
   "source": [
    "#Null값을 평균 또는 고정 값으로 변경\n",
    "titanic_df['Age'].fillna(titanic_df['Age'].mean( ),inplace=True)"
   ]
  },
  {
   "cell_type": "code",
   "execution_count": 31,
   "id": "38b0ca6a",
   "metadata": {
    "ExecuteTime": {
     "end_time": "2022-07-02T13:10:49.749010Z",
     "start_time": "2022-07-02T13:10:49.729978Z"
    }
   },
   "outputs": [],
   "source": [
    "titanic_df['Cabin'].fillna('N',inplace=True)"
   ]
  },
  {
   "cell_type": "code",
   "execution_count": 33,
   "id": "a04cff0a",
   "metadata": {
    "ExecuteTime": {
     "end_time": "2022-07-02T13:11:10.290669Z",
     "start_time": "2022-07-02T13:11:10.271246Z"
    }
   },
   "outputs": [],
   "source": [
    "titanic_df['Embarked'].fillna('N',inplace=True)"
   ]
  },
  {
   "cell_type": "code",
   "execution_count": 34,
   "id": "5739b0f3",
   "metadata": {
    "ExecuteTime": {
     "end_time": "2022-07-02T13:11:10.762232Z",
     "start_time": "2022-07-02T13:11:10.743708Z"
    },
    "scrolled": true
   },
   "outputs": [
    {
     "name": "stdout",
     "output_type": "stream",
     "text": [
      "데이터 세트 Null값 개수 PassengerId      0\n",
      "Survived         0\n",
      "Pclass           0\n",
      "Name             0\n",
      "Sex              0\n",
      "Age            177\n",
      "SibSp            0\n",
      "Parch            0\n",
      "Ticket           0\n",
      "Fare             0\n",
      "Cabin            0\n",
      "Embarked         0\n",
      "dtype: int64\n"
     ]
    }
   ],
   "source": [
    "print('데이터 세트 Null값 개수',titanic_df.isnull().sum())"
   ]
  },
  {
   "cell_type": "code",
   "execution_count": 36,
   "id": "d245725e",
   "metadata": {
    "ExecuteTime": {
     "end_time": "2022-07-02T13:21:28.475433Z",
     "start_time": "2022-07-02T13:21:28.457808Z"
    }
   },
   "outputs": [
    {
     "name": "stdout",
     "output_type": "stream",
     "text": [
      "Sex값 분포:\n",
      " male      577\n",
      "female    314\n",
      "Name: Sex, dtype: int64\n"
     ]
    }
   ],
   "source": [
    "print('Sex값 분포:\\n',titanic_df['Sex'].value_counts())"
   ]
  },
  {
   "cell_type": "code",
   "execution_count": 37,
   "id": "898ef2f2",
   "metadata": {
    "ExecuteTime": {
     "end_time": "2022-07-02T13:21:52.150912Z",
     "start_time": "2022-07-02T13:21:52.131708Z"
    }
   },
   "outputs": [
    {
     "name": "stdout",
     "output_type": "stream",
     "text": [
      "Cabin값 분포:\n",
      " N              687\n",
      "C23 C25 C27      4\n",
      "G6               4\n",
      "B96 B98          4\n",
      "C22 C26          3\n",
      "              ... \n",
      "E34              1\n",
      "C7               1\n",
      "C54              1\n",
      "E36              1\n",
      "C148             1\n",
      "Name: Cabin, Length: 148, dtype: int64\n"
     ]
    }
   ],
   "source": [
    "print('Cabin값 분포:\\n',titanic_df['Cabin'].value_counts())"
   ]
  },
  {
   "cell_type": "code",
   "execution_count": 38,
   "id": "05360644",
   "metadata": {
    "ExecuteTime": {
     "end_time": "2022-07-02T13:22:13.237001Z",
     "start_time": "2022-07-02T13:22:13.225031Z"
    }
   },
   "outputs": [
    {
     "name": "stdout",
     "output_type": "stream",
     "text": [
      "Cabin값 분포:\n",
      " S    644\n",
      "C    168\n",
      "Q     77\n",
      "N      2\n",
      "Name: Embarked, dtype: int64\n"
     ]
    }
   ],
   "source": [
    "print('Cabin값 분포:\\n',titanic_df['Embarked'].value_counts())"
   ]
  },
  {
   "cell_type": "code",
   "execution_count": null,
   "id": "1aa066a1",
   "metadata": {},
   "outputs": [],
   "source": [
    "ttitanic_df.groupby(['Sex',\"\"])"
   ]
  },
  {
   "cell_type": "markdown",
   "id": "e47025ec",
   "metadata": {
    "ExecuteTime": {
     "end_time": "2022-07-01T08:31:22.659260Z",
     "start_time": "2022-07-01T08:31:22.642864Z"
    },
    "heading_collapsed": true
   },
   "source": [
    "### 데이터 스케일링"
   ]
  },
  {
   "cell_type": "code",
   "execution_count": 25,
   "id": "1af4fc98",
   "metadata": {
    "ExecuteTime": {
     "end_time": "2022-07-01T08:35:26.262098Z",
     "start_time": "2022-07-01T08:35:26.228229Z"
    },
    "hidden": true
   },
   "outputs": [
    {
     "ename": "ImportError",
     "evalue": "cannot import name 'train' from 'sklearn' (C:\\Users\\user\\AppData\\Local\\Programs\\Python\\Python39\\lib\\site-packages\\sklearn\\__init__.py)",
     "output_type": "error",
     "traceback": [
      "\u001b[1;31m---------------------------------------------------------------------------\u001b[0m",
      "\u001b[1;31mImportError\u001b[0m                               Traceback (most recent call last)",
      "Input \u001b[1;32mIn [25]\u001b[0m, in \u001b[0;36m<cell line: 1>\u001b[1;34m()\u001b[0m\n\u001b[1;32m----> 1\u001b[0m \u001b[38;5;28;01mfrom\u001b[39;00m \u001b[38;5;21;01msklearn\u001b[39;00m \u001b[38;5;28;01mimport\u001b[39;00m train\n",
      "\u001b[1;31mImportError\u001b[0m: cannot import name 'train' from 'sklearn' (C:\\Users\\user\\AppData\\Local\\Programs\\Python\\Python39\\lib\\site-packages\\sklearn\\__init__.py)"
     ]
    }
   ],
   "source": [
    "from sklearn import train"
   ]
  },
  {
   "cell_type": "code",
   "execution_count": 17,
   "id": "ba757e09",
   "metadata": {
    "ExecuteTime": {
     "end_time": "2022-07-02T13:01:09.209285Z",
     "start_time": "2022-07-02T13:01:09.156269Z"
    },
    "hidden": true
   },
   "outputs": [
    {
     "ename": "NameError",
     "evalue": "name 'load_train' is not defined",
     "output_type": "error",
     "traceback": [
      "\u001b[1;31m---------------------------------------------------------------------------\u001b[0m",
      "\u001b[1;31mNameError\u001b[0m                                 Traceback (most recent call last)",
      "Input \u001b[1;32mIn [17]\u001b[0m, in \u001b[0;36m<cell line: 1>\u001b[1;34m()\u001b[0m\n\u001b[1;32m----> 1\u001b[0m train \u001b[38;5;241m=\u001b[39m \u001b[43mload_train\u001b[49m()\n",
      "\u001b[1;31mNameError\u001b[0m: name 'load_train' is not defined"
     ]
    }
   ],
   "source": [
    "train = load_train()"
   ]
  },
  {
   "cell_type": "code",
   "execution_count": 23,
   "id": "84e47a1f",
   "metadata": {
    "ExecuteTime": {
     "end_time": "2022-07-01T08:33:36.991814Z",
     "start_time": "2022-07-01T08:33:36.982839Z"
    },
    "hidden": true
   },
   "outputs": [],
   "source": [
    "from sklearn.preprocessing import StandardScaler\n",
    "\n",
    "#standardScalar객체 생성\n",
    "scaler = StandardScaler()\n",
    "scaler.fit"
   ]
  },
  {
   "cell_type": "code",
   "execution_count": null,
   "id": "e88edde6",
   "metadata": {
    "hidden": true
   },
   "outputs": [],
   "source": []
  }
 ],
 "metadata": {
  "kernelspec": {
   "display_name": "Python 3 (ipykernel)",
   "language": "python",
   "name": "python3"
  },
  "language_info": {
   "codemirror_mode": {
    "name": "ipython",
    "version": 3
   },
   "file_extension": ".py",
   "mimetype": "text/x-python",
   "name": "python",
   "nbconvert_exporter": "python",
   "pygments_lexer": "ipython3",
   "version": "3.9.13"
  },
  "toc": {
   "base_numbering": 1,
   "nav_menu": {},
   "number_sections": true,
   "sideBar": true,
   "skip_h1_title": false,
   "title_cell": "Table of Contents",
   "title_sidebar": "Contents",
   "toc_cell": false,
   "toc_position": {},
   "toc_section_display": true,
   "toc_window_display": false
  }
 },
 "nbformat": 4,
 "nbformat_minor": 5
}
