{
 "cells": [
  {
   "cell_type": "markdown",
   "id": "baed9954",
   "metadata": {},
   "source": [
    "### standard, min-max, robust 비교 고찰"
   ]
  },
  {
   "cell_type": "code",
   "execution_count": 17,
   "id": "51bb23a9",
   "metadata": {
    "ExecuteTime": {
     "end_time": "2022-07-03T14:21:48.617239Z",
     "start_time": "2022-07-03T14:21:48.601278Z"
    }
   },
   "outputs": [],
   "source": [
    "import pandas as pd\n",
    "import numpy as np\n",
    "from sklearn.preprocessing import StandardScaler,MinMaxScaler,RobustScaler"
   ]
  },
  {
   "cell_type": "code",
   "execution_count": 18,
   "id": "ae6729c7",
   "metadata": {
    "ExecuteTime": {
     "end_time": "2022-07-03T14:21:49.001361Z",
     "start_time": "2022-07-03T14:21:48.977261Z"
    }
   },
   "outputs": [],
   "source": [
    "import matplotlib.pyplot as plt\n",
    "import seaborn as sns\n",
    "%matplotlib inline"
   ]
  },
  {
   "cell_type": "code",
   "execution_count": 19,
   "id": "512dda7d",
   "metadata": {
    "ExecuteTime": {
     "end_time": "2022-07-03T14:21:49.385324Z",
     "start_time": "2022-07-03T14:21:49.365964Z"
    }
   },
   "outputs": [],
   "source": [
    "# data\n",
    "x = pd.DataFrame({\n",
    "    # Distribution with lower outliers\n",
    "    'x1': np.concatenate([np.random.normal(20, 2, 1000), np.random.normal(1, 2, 25)]),\n",
    "    # Distribution with higher outliers\n",
    "    'x2': np.concatenate([np.random.normal(30, 2, 1000), np.random.normal(50, 2, 25)]),\n",
    "})"
   ]
  },
  {
   "cell_type": "code",
   "execution_count": 20,
   "id": "81fe9582",
   "metadata": {
    "ExecuteTime": {
     "end_time": "2022-07-03T14:21:53.696022Z",
     "start_time": "2022-07-03T14:21:53.650771Z"
    }
   },
   "outputs": [
    {
     "data": {
      "text/html": [
       "<div>\n",
       "<style scoped>\n",
       "    .dataframe tbody tr th:only-of-type {\n",
       "        vertical-align: middle;\n",
       "    }\n",
       "\n",
       "    .dataframe tbody tr th {\n",
       "        vertical-align: top;\n",
       "    }\n",
       "\n",
       "    .dataframe thead th {\n",
       "        text-align: right;\n",
       "    }\n",
       "</style>\n",
       "<table border=\"1\" class=\"dataframe\">\n",
       "  <thead>\n",
       "    <tr style=\"text-align: right;\">\n",
       "      <th></th>\n",
       "      <th>x1</th>\n",
       "      <th>x2</th>\n",
       "    </tr>\n",
       "  </thead>\n",
       "  <tbody>\n",
       "    <tr>\n",
       "      <th>0</th>\n",
       "      <td>18.955964</td>\n",
       "      <td>29.909997</td>\n",
       "    </tr>\n",
       "    <tr>\n",
       "      <th>1</th>\n",
       "      <td>19.536417</td>\n",
       "      <td>32.474150</td>\n",
       "    </tr>\n",
       "    <tr>\n",
       "      <th>2</th>\n",
       "      <td>17.535308</td>\n",
       "      <td>30.709804</td>\n",
       "    </tr>\n",
       "    <tr>\n",
       "      <th>3</th>\n",
       "      <td>16.468811</td>\n",
       "      <td>30.977086</td>\n",
       "    </tr>\n",
       "    <tr>\n",
       "      <th>4</th>\n",
       "      <td>18.503982</td>\n",
       "      <td>34.402753</td>\n",
       "    </tr>\n",
       "    <tr>\n",
       "      <th>...</th>\n",
       "      <td>...</td>\n",
       "      <td>...</td>\n",
       "    </tr>\n",
       "    <tr>\n",
       "      <th>1020</th>\n",
       "      <td>4.205665</td>\n",
       "      <td>51.877495</td>\n",
       "    </tr>\n",
       "    <tr>\n",
       "      <th>1021</th>\n",
       "      <td>1.252798</td>\n",
       "      <td>52.982258</td>\n",
       "    </tr>\n",
       "    <tr>\n",
       "      <th>1022</th>\n",
       "      <td>-4.695767</td>\n",
       "      <td>49.983580</td>\n",
       "    </tr>\n",
       "    <tr>\n",
       "      <th>1023</th>\n",
       "      <td>1.227735</td>\n",
       "      <td>53.235020</td>\n",
       "    </tr>\n",
       "    <tr>\n",
       "      <th>1024</th>\n",
       "      <td>5.690573</td>\n",
       "      <td>52.363834</td>\n",
       "    </tr>\n",
       "  </tbody>\n",
       "</table>\n",
       "<p>1025 rows × 2 columns</p>\n",
       "</div>"
      ],
      "text/plain": [
       "             x1         x2\n",
       "0     18.955964  29.909997\n",
       "1     19.536417  32.474150\n",
       "2     17.535308  30.709804\n",
       "3     16.468811  30.977086\n",
       "4     18.503982  34.402753\n",
       "...         ...        ...\n",
       "1020   4.205665  51.877495\n",
       "1021   1.252798  52.982258\n",
       "1022  -4.695767  49.983580\n",
       "1023   1.227735  53.235020\n",
       "1024   5.690573  52.363834\n",
       "\n",
       "[1025 rows x 2 columns]"
      ]
     },
     "execution_count": 20,
     "metadata": {},
     "output_type": "execute_result"
    }
   ],
   "source": [
    "x"
   ]
  },
  {
   "cell_type": "code",
   "execution_count": 15,
   "id": "6fad05fd",
   "metadata": {
    "ExecuteTime": {
     "end_time": "2022-07-01T05:53:15.317147Z",
     "start_time": "2022-07-01T05:53:15.293793Z"
    }
   },
   "outputs": [],
   "source": [
    "scaler = StandardScaler()\n",
    "standard_df = scaler.fit_transform(x)\n",
    "standard_df = pd.DataFrame(standard_df,columns=['x1','x2'])"
   ]
  },
  {
   "cell_type": "code",
   "execution_count": 20,
   "id": "ee2f68d1",
   "metadata": {
    "ExecuteTime": {
     "end_time": "2022-07-01T05:55:19.696068Z",
     "start_time": "2022-07-01T05:55:19.676038Z"
    }
   },
   "outputs": [
    {
     "data": {
      "text/html": [
       "<div>\n",
       "<style scoped>\n",
       "    .dataframe tbody tr th:only-of-type {\n",
       "        vertical-align: middle;\n",
       "    }\n",
       "\n",
       "    .dataframe tbody tr th {\n",
       "        vertical-align: top;\n",
       "    }\n",
       "\n",
       "    .dataframe thead th {\n",
       "        text-align: right;\n",
       "    }\n",
       "</style>\n",
       "<table border=\"1\" class=\"dataframe\">\n",
       "  <thead>\n",
       "    <tr style=\"text-align: right;\">\n",
       "      <th></th>\n",
       "      <th>x1</th>\n",
       "      <th>x2</th>\n",
       "    </tr>\n",
       "  </thead>\n",
       "  <tbody>\n",
       "    <tr>\n",
       "      <th>0</th>\n",
       "      <td>0.047251</td>\n",
       "      <td>-0.070856</td>\n",
       "    </tr>\n",
       "    <tr>\n",
       "      <th>1</th>\n",
       "      <td>0.584189</td>\n",
       "      <td>0.427969</td>\n",
       "    </tr>\n",
       "    <tr>\n",
       "      <th>2</th>\n",
       "      <td>-1.211480</td>\n",
       "      <td>-0.666940</td>\n",
       "    </tr>\n",
       "    <tr>\n",
       "      <th>3</th>\n",
       "      <td>0.998984</td>\n",
       "      <td>-0.134014</td>\n",
       "    </tr>\n",
       "    <tr>\n",
       "      <th>4</th>\n",
       "      <td>-0.014099</td>\n",
       "      <td>-0.454362</td>\n",
       "    </tr>\n",
       "    <tr>\n",
       "      <th>...</th>\n",
       "      <td>...</td>\n",
       "      <td>...</td>\n",
       "    </tr>\n",
       "    <tr>\n",
       "      <th>1020</th>\n",
       "      <td>-4.226660</td>\n",
       "      <td>6.293093</td>\n",
       "    </tr>\n",
       "    <tr>\n",
       "      <th>1021</th>\n",
       "      <td>-5.142844</td>\n",
       "      <td>6.635607</td>\n",
       "    </tr>\n",
       "    <tr>\n",
       "      <th>1022</th>\n",
       "      <td>-5.202892</td>\n",
       "      <td>4.262827</td>\n",
       "    </tr>\n",
       "    <tr>\n",
       "      <th>1023</th>\n",
       "      <td>-6.153699</td>\n",
       "      <td>5.084765</td>\n",
       "    </tr>\n",
       "    <tr>\n",
       "      <th>1024</th>\n",
       "      <td>-4.596741</td>\n",
       "      <td>5.604867</td>\n",
       "    </tr>\n",
       "  </tbody>\n",
       "</table>\n",
       "<p>1025 rows × 2 columns</p>\n",
       "</div>"
      ],
      "text/plain": [
       "            x1        x2\n",
       "0     0.047251 -0.070856\n",
       "1     0.584189  0.427969\n",
       "2    -1.211480 -0.666940\n",
       "3     0.998984 -0.134014\n",
       "4    -0.014099 -0.454362\n",
       "...        ...       ...\n",
       "1020 -4.226660  6.293093\n",
       "1021 -5.142844  6.635607\n",
       "1022 -5.202892  4.262827\n",
       "1023 -6.153699  5.084765\n",
       "1024 -4.596741  5.604867\n",
       "\n",
       "[1025 rows x 2 columns]"
      ]
     },
     "execution_count": 20,
     "metadata": {},
     "output_type": "execute_result"
    }
   ],
   "source": [
    "standard_df"
   ]
  },
  {
   "cell_type": "code",
   "execution_count": 36,
   "id": "fa5b9e58",
   "metadata": {
    "ExecuteTime": {
     "end_time": "2022-07-01T06:14:07.352437Z",
     "start_time": "2022-07-01T06:14:07.329463Z"
    }
   },
   "outputs": [],
   "source": [
    "scaler = MinMaxScaler()\n",
    "minmax_df = scaler.fit_transform(x)\n",
    "minmax_df = pd.DataFrame(minmax_df,columns=['x1','x2'])"
   ]
  },
  {
   "cell_type": "code",
   "execution_count": 39,
   "id": "cc686646",
   "metadata": {
    "ExecuteTime": {
     "end_time": "2022-07-01T06:14:22.594620Z",
     "start_time": "2022-07-01T06:14:22.577667Z"
    }
   },
   "outputs": [],
   "source": [
    "scaler = RobustScaler()\n",
    "robust_df = scaler.fit_transform(x)\n",
    "robust_df = pd.DataFrame(robust_df,columns=['x1','x2'])"
   ]
  },
  {
   "cell_type": "code",
   "execution_count": 40,
   "id": "8d0a7dfc",
   "metadata": {
    "ExecuteTime": {
     "end_time": "2022-07-01T06:14:23.609931Z",
     "start_time": "2022-07-01T06:14:23.066147Z"
    }
   },
   "outputs": [
    {
     "data": {
      "image/png": "[encoded data removed]",
      "text/plain": [
       "<Figure size 1440x360 with 4 Axes>"
      ]
     },
     "metadata": {
      "needs_background": "light"
     },
     "output_type": "display_data"
    }
   ],
   "source": [
    "fig , (ax1, ax2, ax3, ax4) = plt.subplots(ncols=4, figsize=(20,5))\n",
    "ax1.set_title(\"Before Scaling\")\n",
    "sns.kdeplot(x['x1'], ax=ax1, color='r')\n",
    "sns.kdeplot(x['x2'], ax=ax1, color='b')\n",
    "\n",
    "ax2.set_title(\"Standard Scaling\")\n",
    "sns.kdeplot(standard_df['x1'], ax=ax2, color='r')\n",
    "sns.kdeplot(standard_df['x2'], ax=ax2, color='b')\n",
    "\n",
    "ax3.set_title(\"minmax Scailing\")\n",
    "sns.kdeplot(minmax_df['x1'], ax=ax3, color='r')\n",
    "sns.kdeplot(minmax_df['x2'], ax=ax3, color='b')\n",
    "\n",
    "ax4.set_title(\"RobustScaler\")\n",
    "sns.kdeplot(robust_df['x1'], ax=ax4, color='r')\n",
    "sns.kdeplot(robust_df['x2'], ax=ax4, color='b')\n",
    "\n",
    "plt.show()"
   ]
  },
  {
   "cell_type": "markdown",
   "id": "243bbfd5",
   "metadata": {},
   "source": [
    "## 붓꽃 데이터를 통해 그래프 생성"
   ]
  },
  {
   "cell_type": "code",
   "execution_count": 8,
   "id": "5663e74e",
   "metadata": {
    "ExecuteTime": {
     "end_time": "2022-07-03T14:15:07.830544Z",
     "start_time": "2022-07-03T14:15:07.542899Z"
    }
   },
   "outputs": [],
   "source": [
    "from sklearn.datasets import load_iris \n",
    "import pandas as pd"
   ]
  },
  {
   "cell_type": "code",
   "execution_count": 33,
   "id": "742f93fb",
   "metadata": {
    "ExecuteTime": {
     "end_time": "2022-07-03T15:00:35.759082Z",
     "start_time": "2022-07-03T15:00:35.725172Z"
    }
   },
   "outputs": [
    {
     "data": {
      "text/plain": [
       "{'data': array([[5.1, 3.5, 1.4, 0.2],\n",
       "        [4.9, 3. , 1.4, 0.2],\n",
       "        [4.7, 3.2, 1.3, 0.2],\n",
       "        [4.6, 3.1, 1.5, 0.2],\n",
       "        [5. , 3.6, 1.4, 0.2],\n",
       "        [5.4, 3.9, 1.7, 0.4],\n",
       "        [4.6, 3.4, 1.4, 0.3],\n",
       "        [5. , 3.4, 1.5, 0.2],\n",
       "        [4.4, 2.9, 1.4, 0.2],\n",
       "        [4.9, 3.1, 1.5, 0.1],\n",
       "        [5.4, 3.7, 1.5, 0.2],\n",
       "        [4.8, 3.4, 1.6, 0.2],\n",
       "        [4.8, 3. , 1.4, 0.1],\n",
       "        [4.3, 3. , 1.1, 0.1],\n",
       "        [5.8, 4. , 1.2, 0.2],\n",
       "        [5.7, 4.4, 1.5, 0.4],\n",
       "        [5.4, 3.9, 1.3, 0.4],\n",
       "        [5.1, 3.5, 1.4, 0.3],\n",
       "        [5.7, 3.8, 1.7, 0.3],\n",
       "        [5.1, 3.8, 1.5, 0.3],\n",
       "        [5.4, 3.4, 1.7, 0.2],\n",
       "        [5.1, 3.7, 1.5, 0.4],\n",
       "        [4.6, 3.6, 1. , 0.2],\n",
       "        [5.1, 3.3, 1.7, 0.5],\n",
       "        [4.8, 3.4, 1.9, 0.2],\n",
       "        [5. , 3. , 1.6, 0.2],\n",
       "        [5. , 3.4, 1.6, 0.4],\n",
       "        [5.2, 3.5, 1.5, 0.2],\n",
       "        [5.2, 3.4, 1.4, 0.2],\n",
       "        [4.7, 3.2, 1.6, 0.2],\n",
       "        [4.8, 3.1, 1.6, 0.2],\n",
       "        [5.4, 3.4, 1.5, 0.4],\n",
       "        [5.2, 4.1, 1.5, 0.1],\n",
       "        [5.5, 4.2, 1.4, 0.2],\n",
       "        [4.9, 3.1, 1.5, 0.2],\n",
       "        [5. , 3.2, 1.2, 0.2],\n",
       "        [5.5, 3.5, 1.3, 0.2],\n",
       "        [4.9, 3.6, 1.4, 0.1],\n",
       "        [4.4, 3. , 1.3, 0.2],\n",
       "        [5.1, 3.4, 1.5, 0.2],\n",
       "        [5. , 3.5, 1.3, 0.3],\n",
       "        [4.5, 2.3, 1.3, 0.3],\n",
       "        [4.4, 3.2, 1.3, 0.2],\n",
       "        [5. , 3.5, 1.6, 0.6],\n",
       "        [5.1, 3.8, 1.9, 0.4],\n",
       "        [4.8, 3. , 1.4, 0.3],\n",
       "        [5.1, 3.8, 1.6, 0.2],\n",
       "        [4.6, 3.2, 1.4, 0.2],\n",
       "        [5.3, 3.7, 1.5, 0.2],\n",
       "        [5. , 3.3, 1.4, 0.2],\n",
       "        [7. , 3.2, 4.7, 1.4],\n",
       "        [6.4, 3.2, 4.5, 1.5],\n",
       "        [6.9, 3.1, 4.9, 1.5],\n",
       "        [5.5, 2.3, 4. , 1.3],\n",
       "        [6.5, 2.8, 4.6, 1.5],\n",
       "        [5.7, 2.8, 4.5, 1.3],\n",
       "        [6.3, 3.3, 4.7, 1.6],\n",
       "        [4.9, 2.4, 3.3, 1. ],\n",
       "        [6.6, 2.9, 4.6, 1.3],\n",
       "        [5.2, 2.7, 3.9, 1.4],\n",
       "        [5. , 2. , 3.5, 1. ],\n",
       "        [5.9, 3. , 4.2, 1.5],\n",
       "        [6. , 2.2, 4. , 1. ],\n",
       "        [6.1, 2.9, 4.7, 1.4],\n",
       "        [5.6, 2.9, 3.6, 1.3],\n",
       "        [6.7, 3.1, 4.4, 1.4],\n",
       "        [5.6, 3. , 4.5, 1.5],\n",
       "        [5.8, 2.7, 4.1, 1. ],\n",
       "        [6.2, 2.2, 4.5, 1.5],\n",
       "        [5.6, 2.5, 3.9, 1.1],\n",
       "        [5.9, 3.2, 4.8, 1.8],\n",
       "        [6.1, 2.8, 4. , 1.3],\n",
       "        [6.3, 2.5, 4.9, 1.5],\n",
       "        [6.1, 2.8, 4.7, 1.2],\n",
       "        [6.4, 2.9, 4.3, 1.3],\n",
       "        [6.6, 3. , 4.4, 1.4],\n",
       "        [6.8, 2.8, 4.8, 1.4],\n",
       "        [6.7, 3. , 5. , 1.7],\n",
       "        [6. , 2.9, 4.5, 1.5],\n",
       "        [5.7, 2.6, 3.5, 1. ],\n",
       "        [5.5, 2.4, 3.8, 1.1],\n",
       "        [5.5, 2.4, 3.7, 1. ],\n",
       "        [5.8, 2.7, 3.9, 1.2],\n",
       "        [6. , 2.7, 5.1, 1.6],\n",
       "        [5.4, 3. , 4.5, 1.5],\n",
       "        [6. , 3.4, 4.5, 1.6],\n",
       "        [6.7, 3.1, 4.7, 1.5],\n",
       "        [6.3, 2.3, 4.4, 1.3],\n",
       "        [5.6, 3. , 4.1, 1.3],\n",
       "        [5.5, 2.5, 4. , 1.3],\n",
       "        [5.5, 2.6, 4.4, 1.2],\n",
       "        [6.1, 3. , 4.6, 1.4],\n",
       "        [5.8, 2.6, 4. , 1.2],\n",
       "        [5. , 2.3, 3.3, 1. ],\n",
       "        [5.6, 2.7, 4.2, 1.3],\n",
       "        [5.7, 3. , 4.2, 1.2],\n",
       "        [5.7, 2.9, 4.2, 1.3],\n",
       "        [6.2, 2.9, 4.3, 1.3],\n",
       "        [5.1, 2.5, 3. , 1.1],\n",
       "        [5.7, 2.8, 4.1, 1.3],\n",
       "        [6.3, 3.3, 6. , 2.5],\n",
       "        [5.8, 2.7, 5.1, 1.9],\n",
       "        [7.1, 3. , 5.9, 2.1],\n",
       "        [6.3, 2.9, 5.6, 1.8],\n",
       "        [6.5, 3. , 5.8, 2.2],\n",
       "        [7.6, 3. , 6.6, 2.1],\n",
       "        [4.9, 2.5, 4.5, 1.7],\n",
       "        [7.3, 2.9, 6.3, 1.8],\n",
       "        [6.7, 2.5, 5.8, 1.8],\n",
       "        [7.2, 3.6, 6.1, 2.5],\n",
       "        [6.5, 3.2, 5.1, 2. ],\n",
       "        [6.4, 2.7, 5.3, 1.9],\n",
       "        [6.8, 3. , 5.5, 2.1],\n",
       "        [5.7, 2.5, 5. , 2. ],\n",
       "        [5.8, 2.8, 5.1, 2.4],\n",
       "        [6.4, 3.2, 5.3, 2.3],\n",
       "        [6.5, 3. , 5.5, 1.8],\n",
       "        [7.7, 3.8, 6.7, 2.2],\n",
       "        [7.7, 2.6, 6.9, 2.3],\n",
       "        [6. , 2.2, 5. , 1.5],\n",
       "        [6.9, 3.2, 5.7, 2.3],\n",
       "        [5.6, 2.8, 4.9, 2. ],\n",
       "        [7.7, 2.8, 6.7, 2. ],\n",
       "        [6.3, 2.7, 4.9, 1.8],\n",
       "        [6.7, 3.3, 5.7, 2.1],\n",
       "        [7.2, 3.2, 6. , 1.8],\n",
       "        [6.2, 2.8, 4.8, 1.8],\n",
       "        [6.1, 3. , 4.9, 1.8],\n",
       "        [6.4, 2.8, 5.6, 2.1],\n",
       "        [7.2, 3. , 5.8, 1.6],\n",
       "        [7.4, 2.8, 6.1, 1.9],\n",
       "        [7.9, 3.8, 6.4, 2. ],\n",
       "        [6.4, 2.8, 5.6, 2.2],\n",
       "        [6.3, 2.8, 5.1, 1.5],\n",
       "        [6.1, 2.6, 5.6, 1.4],\n",
       "        [7.7, 3. , 6.1, 2.3],\n",
       "        [6.3, 3.4, 5.6, 2.4],\n",
       "        [6.4, 3.1, 5.5, 1.8],\n",
       "        [6. , 3. , 4.8, 1.8],\n",
       "        [6.9, 3.1, 5.4, 2.1],\n",
       "        [6.7, 3.1, 5.6, 2.4],\n",
       "        [6.9, 3.1, 5.1, 2.3],\n",
       "        [5.8, 2.7, 5.1, 1.9],\n",
       "        [6.8, 3.2, 5.9, 2.3],\n",
       "        [6.7, 3.3, 5.7, 2.5],\n",
       "        [6.7, 3. , 5.2, 2.3],\n",
       "        [6.3, 2.5, 5. , 1.9],\n",
       "        [6.5, 3. , 5.2, 2. ],\n",
       "        [6.2, 3.4, 5.4, 2.3],\n",
       "        [5.9, 3. , 5.1, 1.8]]),\n",
       " 'target': array([0, 0, 0, 0, 0, 0, 0, 0, 0, 0, 0, 0, 0, 0, 0, 0, 0, 0, 0, 0, 0, 0,\n",
       "        0, 0, 0, 0, 0, 0, 0, 0, 0, 0, 0, 0, 0, 0, 0, 0, 0, 0, 0, 0, 0, 0,\n",
       "        0, 0, 0, 0, 0, 0, 1, 1, 1, 1, 1, 1, 1, 1, 1, 1, 1, 1, 1, 1, 1, 1,\n",
       "        1, 1, 1, 1, 1, 1, 1, 1, 1, 1, 1, 1, 1, 1, 1, 1, 1, 1, 1, 1, 1, 1,\n",
       "        1, 1, 1, 1, 1, 1, 1, 1, 1, 1, 1, 1, 2, 2, 2, 2, 2, 2, 2, 2, 2, 2,\n",
       "        2, 2, 2, 2, 2, 2, 2, 2, 2, 2, 2, 2, 2, 2, 2, 2, 2, 2, 2, 2, 2, 2,\n",
       "        2, 2, 2, 2, 2, 2, 2, 2, 2, 2, 2, 2, 2, 2, 2, 2, 2, 2]),\n",
       " 'frame': None,\n",
       " 'target_names': array(['setosa', 'versicolor', 'virginica'], dtype='<U10'),\n",
       " 'DESCR': '.. _iris_dataset:\\n\\nIris plants dataset\\n--------------------\\n\\n**Data Set Characteristics:**\\n\\n    :Number of Instances: 150 (50 in each of three classes)\\n    :Number of Attributes: 4 numeric, predictive attributes and the class\\n    :Attribute Information:\\n        - sepal length in cm\\n        - sepal width in cm\\n        - petal length in cm\\n        - petal width in cm\\n        - class:\\n                - Iris-Setosa\\n                - Iris-Versicolour\\n                - Iris-Virginica\\n                \\n    :Summary Statistics:\\n\\n    ============== ==== ==== ======= ===== ====================\\n                    Min  Max   Mean    SD   Class Correlation\\n    ============== ==== ==== ======= ===== ====================\\n    sepal length:   4.3  7.9   5.84   0.83    0.7826\\n    sepal width:    2.0  4.4   3.05   0.43   -0.4194\\n    petal length:   1.0  6.9   3.76   1.76    0.9490  (high!)\\n    petal width:    0.1  2.5   1.20   0.76    0.9565  (high!)\\n    ============== ==== ==== ======= ===== ====================\\n\\n    :Missing Attribute Values: None\\n    :Class Distribution: 33.3% for each of 3 classes.\\n    :Creator: R.A. Fisher\\n    :Donor: Michael Marshall (MARSHALL%PLU@io.arc.nasa.gov)\\n    :Date: July, 1988\\n\\nThe famous Iris database, first used by Sir R.A. Fisher. The dataset is taken\\nfrom Fisher\\'s paper. Note that it\\'s the same as in R, but not as in the UCI\\nMachine Learning Repository, which has two wrong data points.\\n\\nThis is perhaps the best known database to be found in the\\npattern recognition literature.  Fisher\\'s paper is a classic in the field and\\nis referenced frequently to this day.  (See Duda & Hart, for example.)  The\\ndata set contains 3 classes of 50 instances each, where each class refers to a\\ntype of iris plant.  One class is linearly separable from the other 2; the\\nlatter are NOT linearly separable from each other.\\n\\n.. topic:: References\\n\\n   - Fisher, R.A. \"The use of multiple measurements in taxonomic problems\"\\n     Annual Eugenics, 7, Part II, 179-188 (1936); also in \"Contributions to\\n     Mathematical Statistics\" (John Wiley, NY, 1950).\\n   - Duda, R.O., & Hart, P.E. (1973) Pattern Classification and Scene Analysis.\\n     (Q327.D83) John Wiley & Sons.  ISBN 0-471-22361-1.  See page 218.\\n   - Dasarathy, B.V. (1980) \"Nosing Around the Neighborhood: A New System\\n     Structure and Classification Rule for Recognition in Partially Exposed\\n     Environments\".  IEEE Transactions on Pattern Analysis and Machine\\n     Intelligence, Vol. PAMI-2, No. 1, 67-71.\\n   - Gates, G.W. (1972) \"The Reduced Nearest Neighbor Rule\".  IEEE Transactions\\n     on Information Theory, May 1972, 431-433.\\n   - See also: 1988 MLC Proceedings, 54-64.  Cheeseman et al\"s AUTOCLASS II\\n     conceptual clustering system finds 3 classes in the data.\\n   - Many, many more ...',\n",
       " 'feature_names': ['sepal length (cm)',\n",
       "  'sepal width (cm)',\n",
       "  'petal length (cm)',\n",
       "  'petal width (cm)'],\n",
       " 'filename': 'iris.csv',\n",
       " 'data_module': 'sklearn.datasets.data'}"
      ]
     },
     "execution_count": 33,
     "metadata": {},
     "output_type": "execute_result"
    }
   ],
   "source": [
    "#붓꽃 데이터셋을 로딩하고 DataFrame으로 변환한다. \n",
    "iris=load_iris()\n",
    "iris"
   ]
  },
  {
   "cell_type": "code",
   "execution_count": 34,
   "id": "85a83c51",
   "metadata": {
    "ExecuteTime": {
     "end_time": "2022-07-03T15:13:22.048893Z",
     "start_time": "2022-07-03T15:13:22.028263Z"
    }
   },
   "outputs": [],
   "source": [
    "iris_data = iris.data\n",
    "iris_df = pd.DataFrame(data=iris_data,columns = iris.feature_names)"
   ]
  },
  {
   "cell_type": "code",
   "execution_count": 14,
   "id": "6f29c5fe",
   "metadata": {
    "ExecuteTime": {
     "end_time": "2022-07-03T14:16:13.165032Z",
     "start_time": "2022-07-03T14:16:13.145291Z"
    },
    "scrolled": true
   },
   "outputs": [
    {
     "data": {
      "text/plain": [
       "sepal length (cm)    float64\n",
       "sepal width (cm)     float64\n",
       "petal length (cm)    float64\n",
       "petal width (cm)     float64\n",
       "dtype: object"
      ]
     },
     "execution_count": 14,
     "metadata": {},
     "output_type": "execute_result"
    }
   ],
   "source": [
    "iris_df.dtypes"
   ]
  },
  {
   "cell_type": "code",
   "execution_count": 25,
   "id": "8e6dc653",
   "metadata": {
    "ExecuteTime": {
     "end_time": "2022-07-03T14:30:41.565007Z",
     "start_time": "2022-07-03T14:30:41.527867Z"
    }
   },
   "outputs": [
    {
     "data": {
      "text/html": [
       "<div>\n",
       "<style scoped>\n",
       "    .dataframe tbody tr th:only-of-type {\n",
       "        vertical-align: middle;\n",
       "    }\n",
       "\n",
       "    .dataframe tbody tr th {\n",
       "        vertical-align: top;\n",
       "    }\n",
       "\n",
       "    .dataframe thead th {\n",
       "        text-align: right;\n",
       "    }\n",
       "</style>\n",
       "<table border=\"1\" class=\"dataframe\">\n",
       "  <thead>\n",
       "    <tr style=\"text-align: right;\">\n",
       "      <th></th>\n",
       "      <th>sepal length (cm)</th>\n",
       "      <th>sepal width (cm)</th>\n",
       "      <th>petal length (cm)</th>\n",
       "      <th>petal width (cm)</th>\n",
       "    </tr>\n",
       "  </thead>\n",
       "  <tbody>\n",
       "    <tr>\n",
       "      <th>0</th>\n",
       "      <td>5.1</td>\n",
       "      <td>3.5</td>\n",
       "      <td>1.4</td>\n",
       "      <td>0.2</td>\n",
       "    </tr>\n",
       "    <tr>\n",
       "      <th>1</th>\n",
       "      <td>4.9</td>\n",
       "      <td>3.0</td>\n",
       "      <td>1.4</td>\n",
       "      <td>0.2</td>\n",
       "    </tr>\n",
       "    <tr>\n",
       "      <th>2</th>\n",
       "      <td>4.7</td>\n",
       "      <td>3.2</td>\n",
       "      <td>1.3</td>\n",
       "      <td>0.2</td>\n",
       "    </tr>\n",
       "    <tr>\n",
       "      <th>3</th>\n",
       "      <td>4.6</td>\n",
       "      <td>3.1</td>\n",
       "      <td>1.5</td>\n",
       "      <td>0.2</td>\n",
       "    </tr>\n",
       "    <tr>\n",
       "      <th>4</th>\n",
       "      <td>5.0</td>\n",
       "      <td>3.6</td>\n",
       "      <td>1.4</td>\n",
       "      <td>0.2</td>\n",
       "    </tr>\n",
       "    <tr>\n",
       "      <th>...</th>\n",
       "      <td>...</td>\n",
       "      <td>...</td>\n",
       "      <td>...</td>\n",
       "      <td>...</td>\n",
       "    </tr>\n",
       "    <tr>\n",
       "      <th>145</th>\n",
       "      <td>6.7</td>\n",
       "      <td>3.0</td>\n",
       "      <td>5.2</td>\n",
       "      <td>2.3</td>\n",
       "    </tr>\n",
       "    <tr>\n",
       "      <th>146</th>\n",
       "      <td>6.3</td>\n",
       "      <td>2.5</td>\n",
       "      <td>5.0</td>\n",
       "      <td>1.9</td>\n",
       "    </tr>\n",
       "    <tr>\n",
       "      <th>147</th>\n",
       "      <td>6.5</td>\n",
       "      <td>3.0</td>\n",
       "      <td>5.2</td>\n",
       "      <td>2.0</td>\n",
       "    </tr>\n",
       "    <tr>\n",
       "      <th>148</th>\n",
       "      <td>6.2</td>\n",
       "      <td>3.4</td>\n",
       "      <td>5.4</td>\n",
       "      <td>2.3</td>\n",
       "    </tr>\n",
       "    <tr>\n",
       "      <th>149</th>\n",
       "      <td>5.9</td>\n",
       "      <td>3.0</td>\n",
       "      <td>5.1</td>\n",
       "      <td>1.8</td>\n",
       "    </tr>\n",
       "  </tbody>\n",
       "</table>\n",
       "<p>150 rows × 4 columns</p>\n",
       "</div>"
      ],
      "text/plain": [
       "     sepal length (cm)  sepal width (cm)  petal length (cm)  petal width (cm)\n",
       "0                  5.1               3.5                1.4               0.2\n",
       "1                  4.9               3.0                1.4               0.2\n",
       "2                  4.7               3.2                1.3               0.2\n",
       "3                  4.6               3.1                1.5               0.2\n",
       "4                  5.0               3.6                1.4               0.2\n",
       "..                 ...               ...                ...               ...\n",
       "145                6.7               3.0                5.2               2.3\n",
       "146                6.3               2.5                5.0               1.9\n",
       "147                6.5               3.0                5.2               2.0\n",
       "148                6.2               3.4                5.4               2.3\n",
       "149                5.9               3.0                5.1               1.8\n",
       "\n",
       "[150 rows x 4 columns]"
      ]
     },
     "execution_count": 25,
     "metadata": {},
     "output_type": "execute_result"
    }
   ],
   "source": [
    "iris_df"
   ]
  },
  {
   "cell_type": "markdown",
   "id": "8e75fd3f",
   "metadata": {
    "ExecuteTime": {
     "end_time": "2022-07-01T07:03:20.467620Z",
     "start_time": "2022-07-01T07:03:20.447673Z"
    },
    "heading_collapsed": true
   },
   "source": [
    "### 붓꽃 데이터(standardfeature)"
   ]
  },
  {
   "cell_type": "code",
   "execution_count": 10,
   "id": "768689ec",
   "metadata": {
    "ExecuteTime": {
     "end_time": "2022-07-03T14:15:10.061927Z",
     "start_time": "2022-07-03T14:15:10.038990Z"
    },
    "hidden": true
   },
   "outputs": [],
   "source": [
    "from sklearn.preprocessing import StandardScaler\n",
    "\n",
    "#standardScaler객체 생성\n",
    "scaler = StandardScaler()\n",
    "#StandardScaler로 데이터 세트 변환. fit()와 transform()호출\n",
    "scaler.fit(iris_df)\n",
    "iris_scaled = scaler.transform(iris_df)"
   ]
  },
  {
   "cell_type": "code",
   "execution_count": 11,
   "id": "1cd4855f",
   "metadata": {
    "ExecuteTime": {
     "end_time": "2022-07-03T14:15:11.440386Z",
     "start_time": "2022-07-03T14:15:11.412004Z"
    },
    "collapsed": true,
    "hidden": true
   },
   "outputs": [
    {
     "name": "stdout",
     "output_type": "stream",
     "text": [
      "feature 들의 평균 값\n",
      "sepal length (cm)   -1.690315e-15\n",
      "sepal width (cm)    -1.842970e-15\n",
      "petal length (cm)   -1.698641e-15\n",
      "petal width (cm)    -1.409243e-15\n",
      "dtype: float64\n",
      "\n",
      "feature 들의 분산 값\n",
      "sepal length (cm)    1.006711\n",
      "sepal width (cm)     1.006711\n",
      "petal length (cm)    1.006711\n",
      "petal width (cm)     1.006711\n",
      "dtype: float64\n"
     ]
    }
   ],
   "source": [
    "# transform() 시 scale 변환된 데이터 셋이 numpy ndarray로 반환되어 이를 DataFrame으로 변환\n",
    "iris_scaled_df1 = pd.DataFrame(iris_scaled, columns = iris.feature_names)\n",
    "# iris_scaled_df.describe()\n",
    "print('feature 들의 평균 값')\n",
    "print(iris_scaled_df1.mean())\n",
    "print('\\nfeature 들의 분산 값')\n",
    "print(iris_scaled_df1.var())\n"
   ]
  },
  {
   "cell_type": "code",
   "execution_count": 12,
   "id": "33e528b7",
   "metadata": {
    "ExecuteTime": {
     "end_time": "2022-07-03T14:15:12.405588Z",
     "start_time": "2022-07-03T14:15:12.221509Z"
    },
    "collapsed": true,
    "hidden": true
   },
   "outputs": [
    {
     "data": {
      "text/plain": [
       "<AxesSubplot:title={'center':'Standard Scaling'}, xlabel='sepal length (cm)', ylabel='Density'>"
      ]
     },
     "execution_count": 12,
     "metadata": {},
     "output_type": "execute_result"
    },
    {
     "data": {
      "image/png": "[encoded data removed]",
      "text/plain": [
       "<Figure size 1440x360 with 1 Axes>"
      ]
     },
     "metadata": {
      "needs_background": "light"
     },
     "output_type": "display_data"
    }
   ],
   "source": [
    "import matplotlib.pyplot as plt\n",
    "import seaborn as sns\n",
    "fig, (ax2) = plt.subplots(ncols=1, figsize=(20,5))\n",
    "ax2.set_title('Standard Scaling')\n",
    "sns.kdeplot(iris_scaled_df1['sepal length (cm)'], ax = ax2, color = 'r')\n",
    "sns.kdeplot(iris_scaled_df1['sepal width (cm)'], ax = ax2, color = 'y')\n",
    "sns.kdeplot(iris_scaled_df1['petal length (cm)'], ax = ax2, color = 'g')\n",
    "sns.kdeplot(iris_scaled_df1['petal width (cm)'], ax = ax2, color = 'b')"
   ]
  },
  {
   "cell_type": "markdown",
   "id": "6b60cd5d",
   "metadata": {
    "ExecuteTime": {
     "end_time": "2022-07-01T06:48:56.582171Z",
     "start_time": "2022-07-01T06:48:56.566892Z"
    }
   },
   "source": [
    "### MinMaxScaler\n",
    "class sklearn.preprocessing.MinMaxScaler(feature_range=(0, 1), *, copy=True, clip=False)"
   ]
  },
  {
   "cell_type": "code",
   "execution_count": 63,
   "id": "bfa52870",
   "metadata": {
    "ExecuteTime": {
     "end_time": "2022-07-01T07:12:06.795263Z",
     "start_time": "2022-07-01T07:12:06.778307Z"
    }
   },
   "outputs": [],
   "source": [
    "from sklearn.preprocessing import MinMaxScaler"
   ]
  },
  {
   "cell_type": "code",
   "execution_count": 64,
   "id": "01fcaac3",
   "metadata": {
    "ExecuteTime": {
     "end_time": "2022-07-01T07:12:07.038693Z",
     "start_time": "2022-07-01T07:12:07.023722Z"
    }
   },
   "outputs": [],
   "source": [
    "#MinMaxScaler객체 생성\n",
    "scaler = MinMaxScaler()\n",
    "#MinMaxScaler로 데이터 셋 변환.fit()과 transform()호출\n",
    "scaler.fit(iris_df)\n",
    "iris_scaled = scaler.transform(iris_df)"
   ]
  },
  {
   "cell_type": "code",
   "execution_count": 65,
   "id": "4c5108b7",
   "metadata": {
    "ExecuteTime": {
     "end_time": "2022-07-01T07:12:07.268046Z",
     "start_time": "2022-07-01T07:12:07.249095Z"
    }
   },
   "outputs": [
    {
     "name": "stdout",
     "output_type": "stream",
     "text": [
      "feature들의 최소 값\n",
      "sepal length (cm)    0.0\n",
      "sepal width (cm)     0.0\n",
      "petal length (cm)    0.0\n",
      "petal width (cm)     0.0\n",
      "dtype: float64\n",
      "\n",
      "feature들의 최대 값\n",
      "sepal length (cm)    1.0\n",
      "sepal width (cm)     1.0\n",
      "petal length (cm)    1.0\n",
      "petal width (cm)     1.0\n",
      "dtype: float64\n"
     ]
    }
   ],
   "source": [
    "iris_df_scaled = pd.DataFrame(data=iris_scaled, columns=iris.feature_names)\n",
    "print('feature들의 최소 값')\n",
    "print(iris_df_scaled.min())\n",
    "print('\\nfeature들의 최대 값')\n",
    "print(iris_df_scaled.max())"
   ]
  },
  {
   "cell_type": "markdown",
   "id": "1e93a795",
   "metadata": {},
   "source": [
    "### Robust Scalinig\n",
    "class sklearn.preprocessing.RobustScaler(*, with_centering=True, with_scaling=True, quantile_range=(25.0, 75.0), copy=True, unit_variance=False)"
   ]
  },
  {
   "cell_type": "code",
   "execution_count": 26,
   "id": "795d5672",
   "metadata": {
    "ExecuteTime": {
     "end_time": "2022-07-03T14:50:45.009141Z",
     "start_time": "2022-07-03T14:50:44.986704Z"
    }
   },
   "outputs": [],
   "source": [
    "from sklearn.preprocessing import RobustScaler\n",
    "\n",
    "# 중요 포인트!! fit_transform( )은 class에서 적용되는 것이 아니라 instance method임.\n",
    "rbscaler = RobustScaler()\n",
    "rbscaler.fit(iris_df)\n",
    "iris_rbscaled = rbscaler.transform(iris_df)"
   ]
  },
  {
   "cell_type": "code",
   "execution_count": 28,
   "id": "235cea17",
   "metadata": {
    "ExecuteTime": {
     "end_time": "2022-07-03T14:50:57.436740Z",
     "start_time": "2022-07-03T14:50:57.400273Z"
    },
    "collapsed": true
   },
   "outputs": [
    {
     "data": {
      "text/plain": [
       "array([[-0.53846154,  1.        , -0.84285714, -0.73333333],\n",
       "       [-0.69230769,  0.        , -0.84285714, -0.73333333],\n",
       "       [-0.84615385,  0.4       , -0.87142857, -0.73333333],\n",
       "       [-0.92307692,  0.2       , -0.81428571, -0.73333333],\n",
       "       [-0.61538462,  1.2       , -0.84285714, -0.73333333],\n",
       "       [-0.30769231,  1.8       , -0.75714286, -0.6       ],\n",
       "       [-0.92307692,  0.8       , -0.84285714, -0.66666667],\n",
       "       [-0.61538462,  0.8       , -0.81428571, -0.73333333],\n",
       "       [-1.07692308, -0.2       , -0.84285714, -0.73333333],\n",
       "       [-0.69230769,  0.2       , -0.81428571, -0.8       ],\n",
       "       [-0.30769231,  1.4       , -0.81428571, -0.73333333],\n",
       "       [-0.76923077,  0.8       , -0.78571429, -0.73333333],\n",
       "       [-0.76923077,  0.        , -0.84285714, -0.8       ],\n",
       "       [-1.15384615,  0.        , -0.92857143, -0.8       ],\n",
       "       [ 0.        ,  2.        , -0.9       , -0.73333333],\n",
       "       [-0.07692308,  2.8       , -0.81428571, -0.6       ],\n",
       "       [-0.30769231,  1.8       , -0.87142857, -0.6       ],\n",
       "       [-0.53846154,  1.        , -0.84285714, -0.66666667],\n",
       "       [-0.07692308,  1.6       , -0.75714286, -0.66666667],\n",
       "       [-0.53846154,  1.6       , -0.81428571, -0.66666667],\n",
       "       [-0.30769231,  0.8       , -0.75714286, -0.73333333],\n",
       "       [-0.53846154,  1.4       , -0.81428571, -0.6       ],\n",
       "       [-0.92307692,  1.2       , -0.95714286, -0.73333333],\n",
       "       [-0.53846154,  0.6       , -0.75714286, -0.53333333],\n",
       "       [-0.76923077,  0.8       , -0.7       , -0.73333333],\n",
       "       [-0.61538462,  0.        , -0.78571429, -0.73333333],\n",
       "       [-0.61538462,  0.8       , -0.78571429, -0.6       ],\n",
       "       [-0.46153846,  1.        , -0.81428571, -0.73333333],\n",
       "       [-0.46153846,  0.8       , -0.84285714, -0.73333333],\n",
       "       [-0.84615385,  0.4       , -0.78571429, -0.73333333],\n",
       "       [-0.76923077,  0.2       , -0.78571429, -0.73333333],\n",
       "       [-0.30769231,  0.8       , -0.81428571, -0.6       ],\n",
       "       [-0.46153846,  2.2       , -0.81428571, -0.8       ],\n",
       "       [-0.23076923,  2.4       , -0.84285714, -0.73333333],\n",
       "       [-0.69230769,  0.2       , -0.81428571, -0.73333333],\n",
       "       [-0.61538462,  0.4       , -0.9       , -0.73333333],\n",
       "       [-0.23076923,  1.        , -0.87142857, -0.73333333],\n",
       "       [-0.69230769,  1.2       , -0.84285714, -0.8       ],\n",
       "       [-1.07692308,  0.        , -0.87142857, -0.73333333],\n",
       "       [-0.53846154,  0.8       , -0.81428571, -0.73333333],\n",
       "       [-0.61538462,  1.        , -0.87142857, -0.66666667],\n",
       "       [-1.        , -1.4       , -0.87142857, -0.66666667],\n",
       "       [-1.07692308,  0.4       , -0.87142857, -0.73333333],\n",
       "       [-0.61538462,  1.        , -0.78571429, -0.46666667],\n",
       "       [-0.53846154,  1.6       , -0.7       , -0.6       ],\n",
       "       [-0.76923077,  0.        , -0.84285714, -0.66666667],\n",
       "       [-0.53846154,  1.6       , -0.78571429, -0.73333333],\n",
       "       [-0.92307692,  0.4       , -0.84285714, -0.73333333],\n",
       "       [-0.38461538,  1.4       , -0.81428571, -0.73333333],\n",
       "       [-0.61538462,  0.6       , -0.84285714, -0.73333333],\n",
       "       [ 0.92307692,  0.4       ,  0.1       ,  0.06666667],\n",
       "       [ 0.46153846,  0.4       ,  0.04285714,  0.13333333],\n",
       "       [ 0.84615385,  0.2       ,  0.15714286,  0.13333333],\n",
       "       [-0.23076923, -1.4       , -0.1       ,  0.        ],\n",
       "       [ 0.53846154, -0.4       ,  0.07142857,  0.13333333],\n",
       "       [-0.07692308, -0.4       ,  0.04285714,  0.        ],\n",
       "       [ 0.38461538,  0.6       ,  0.1       ,  0.2       ],\n",
       "       [-0.69230769, -1.2       , -0.3       , -0.2       ],\n",
       "       [ 0.61538462, -0.2       ,  0.07142857,  0.        ],\n",
       "       [-0.46153846, -0.6       , -0.12857143,  0.06666667],\n",
       "       [-0.61538462, -2.        , -0.24285714, -0.2       ],\n",
       "       [ 0.07692308,  0.        , -0.04285714,  0.13333333],\n",
       "       [ 0.15384615, -1.6       , -0.1       , -0.2       ],\n",
       "       [ 0.23076923, -0.2       ,  0.1       ,  0.06666667],\n",
       "       [-0.15384615, -0.2       , -0.21428571,  0.        ],\n",
       "       [ 0.69230769,  0.2       ,  0.01428571,  0.06666667],\n",
       "       [-0.15384615,  0.        ,  0.04285714,  0.13333333],\n",
       "       [ 0.        , -0.6       , -0.07142857, -0.2       ],\n",
       "       [ 0.30769231, -1.6       ,  0.04285714,  0.13333333],\n",
       "       [-0.15384615, -1.        , -0.12857143, -0.13333333],\n",
       "       [ 0.07692308,  0.4       ,  0.12857143,  0.33333333],\n",
       "       [ 0.23076923, -0.4       , -0.1       ,  0.        ],\n",
       "       [ 0.38461538, -1.        ,  0.15714286,  0.13333333],\n",
       "       [ 0.23076923, -0.4       ,  0.1       , -0.06666667],\n",
       "       [ 0.46153846, -0.2       , -0.01428571,  0.        ],\n",
       "       [ 0.61538462,  0.        ,  0.01428571,  0.06666667],\n",
       "       [ 0.76923077, -0.4       ,  0.12857143,  0.06666667],\n",
       "       [ 0.69230769,  0.        ,  0.18571429,  0.26666667],\n",
       "       [ 0.15384615, -0.2       ,  0.04285714,  0.13333333],\n",
       "       [-0.07692308, -0.8       , -0.24285714, -0.2       ],\n",
       "       [-0.23076923, -1.2       , -0.15714286, -0.13333333],\n",
       "       [-0.23076923, -1.2       , -0.18571429, -0.2       ],\n",
       "       [ 0.        , -0.6       , -0.12857143, -0.06666667],\n",
       "       [ 0.15384615, -0.6       ,  0.21428571,  0.2       ],\n",
       "       [-0.30769231,  0.        ,  0.04285714,  0.13333333],\n",
       "       [ 0.15384615,  0.8       ,  0.04285714,  0.2       ],\n",
       "       [ 0.69230769,  0.2       ,  0.1       ,  0.13333333],\n",
       "       [ 0.38461538, -1.4       ,  0.01428571,  0.        ],\n",
       "       [-0.15384615,  0.        , -0.07142857,  0.        ],\n",
       "       [-0.23076923, -1.        , -0.1       ,  0.        ],\n",
       "       [-0.23076923, -0.8       ,  0.01428571, -0.06666667],\n",
       "       [ 0.23076923,  0.        ,  0.07142857,  0.06666667],\n",
       "       [ 0.        , -0.8       , -0.1       , -0.06666667],\n",
       "       [-0.61538462, -1.4       , -0.3       , -0.2       ],\n",
       "       [-0.15384615, -0.6       , -0.04285714,  0.        ],\n",
       "       [-0.07692308,  0.        , -0.04285714, -0.06666667],\n",
       "       [-0.07692308, -0.2       , -0.04285714,  0.        ],\n",
       "       [ 0.30769231, -0.2       , -0.01428571,  0.        ],\n",
       "       [-0.53846154, -1.        , -0.38571429, -0.13333333],\n",
       "       [-0.07692308, -0.4       , -0.07142857,  0.        ],\n",
       "       [ 0.38461538,  0.6       ,  0.47142857,  0.8       ],\n",
       "       [ 0.        , -0.6       ,  0.21428571,  0.4       ],\n",
       "       [ 1.        ,  0.        ,  0.44285714,  0.53333333],\n",
       "       [ 0.38461538, -0.2       ,  0.35714286,  0.33333333],\n",
       "       [ 0.53846154,  0.        ,  0.41428571,  0.6       ],\n",
       "       [ 1.38461538,  0.        ,  0.64285714,  0.53333333],\n",
       "       [-0.69230769, -1.        ,  0.04285714,  0.26666667],\n",
       "       [ 1.15384615, -0.2       ,  0.55714286,  0.33333333],\n",
       "       [ 0.69230769, -1.        ,  0.41428571,  0.33333333],\n",
       "       [ 1.07692308,  1.2       ,  0.5       ,  0.8       ],\n",
       "       [ 0.53846154,  0.4       ,  0.21428571,  0.46666667],\n",
       "       [ 0.46153846, -0.6       ,  0.27142857,  0.4       ],\n",
       "       [ 0.76923077,  0.        ,  0.32857143,  0.53333333],\n",
       "       [-0.07692308, -1.        ,  0.18571429,  0.46666667],\n",
       "       [ 0.        , -0.4       ,  0.21428571,  0.73333333],\n",
       "       [ 0.46153846,  0.4       ,  0.27142857,  0.66666667],\n",
       "       [ 0.53846154,  0.        ,  0.32857143,  0.33333333],\n",
       "       [ 1.46153846,  1.6       ,  0.67142857,  0.6       ],\n",
       "       [ 1.46153846, -0.8       ,  0.72857143,  0.66666667],\n",
       "       [ 0.15384615, -1.6       ,  0.18571429,  0.13333333],\n",
       "       [ 0.84615385,  0.4       ,  0.38571429,  0.66666667],\n",
       "       [-0.15384615, -0.4       ,  0.15714286,  0.46666667],\n",
       "       [ 1.46153846, -0.4       ,  0.67142857,  0.46666667],\n",
       "       [ 0.38461538, -0.6       ,  0.15714286,  0.33333333],\n",
       "       [ 0.69230769,  0.6       ,  0.38571429,  0.53333333],\n",
       "       [ 1.07692308,  0.4       ,  0.47142857,  0.33333333],\n",
       "       [ 0.30769231, -0.4       ,  0.12857143,  0.33333333],\n",
       "       [ 0.23076923,  0.        ,  0.15714286,  0.33333333],\n",
       "       [ 0.46153846, -0.4       ,  0.35714286,  0.53333333],\n",
       "       [ 1.07692308,  0.        ,  0.41428571,  0.2       ],\n",
       "       [ 1.23076923, -0.4       ,  0.5       ,  0.4       ],\n",
       "       [ 1.61538462,  1.6       ,  0.58571429,  0.46666667],\n",
       "       [ 0.46153846, -0.4       ,  0.35714286,  0.6       ],\n",
       "       [ 0.38461538, -0.4       ,  0.21428571,  0.13333333],\n",
       "       [ 0.23076923, -0.8       ,  0.35714286,  0.06666667],\n",
       "       [ 1.46153846,  0.        ,  0.5       ,  0.66666667],\n",
       "       [ 0.38461538,  0.8       ,  0.35714286,  0.73333333],\n",
       "       [ 0.46153846,  0.2       ,  0.32857143,  0.33333333],\n",
       "       [ 0.15384615,  0.        ,  0.12857143,  0.33333333],\n",
       "       [ 0.84615385,  0.2       ,  0.3       ,  0.53333333],\n",
       "       [ 0.69230769,  0.2       ,  0.35714286,  0.73333333],\n",
       "       [ 0.84615385,  0.2       ,  0.21428571,  0.66666667],\n",
       "       [ 0.        , -0.6       ,  0.21428571,  0.4       ],\n",
       "       [ 0.76923077,  0.4       ,  0.44285714,  0.66666667],\n",
       "       [ 0.69230769,  0.6       ,  0.38571429,  0.8       ],\n",
       "       [ 0.69230769,  0.        ,  0.24285714,  0.66666667],\n",
       "       [ 0.38461538, -1.        ,  0.18571429,  0.4       ],\n",
       "       [ 0.53846154,  0.        ,  0.24285714,  0.46666667],\n",
       "       [ 0.30769231,  0.8       ,  0.3       ,  0.66666667],\n",
       "       [ 0.07692308,  0.        ,  0.21428571,  0.33333333]])"
      ]
     },
     "execution_count": 28,
     "metadata": {},
     "output_type": "execute_result"
    }
   ],
   "source": [
    "iris_rbscaled"
   ]
  },
  {
   "cell_type": "code",
   "execution_count": 31,
   "id": "f4650962",
   "metadata": {
    "ExecuteTime": {
     "end_time": "2022-07-03T14:58:05.972716Z",
     "start_time": "2022-07-03T14:58:05.941758Z"
    }
   },
   "outputs": [
    {
     "data": {
      "text/html": [
       "<div>\n",
       "<style scoped>\n",
       "    .dataframe tbody tr th:only-of-type {\n",
       "        vertical-align: middle;\n",
       "    }\n",
       "\n",
       "    .dataframe tbody tr th {\n",
       "        vertical-align: top;\n",
       "    }\n",
       "\n",
       "    .dataframe thead th {\n",
       "        text-align: right;\n",
       "    }\n",
       "</style>\n",
       "<table border=\"1\" class=\"dataframe\">\n",
       "  <thead>\n",
       "    <tr style=\"text-align: right;\">\n",
       "      <th></th>\n",
       "      <th>sepal length (cm)</th>\n",
       "      <th>sepal width (cm)</th>\n",
       "      <th>petal length (cm)</th>\n",
       "      <th>petal width (cm)</th>\n",
       "    </tr>\n",
       "  </thead>\n",
       "  <tbody>\n",
       "    <tr>\n",
       "      <th>0</th>\n",
       "      <td>-0.538462</td>\n",
       "      <td>1.0</td>\n",
       "      <td>-0.842857</td>\n",
       "      <td>-0.733333</td>\n",
       "    </tr>\n",
       "    <tr>\n",
       "      <th>1</th>\n",
       "      <td>-0.692308</td>\n",
       "      <td>0.0</td>\n",
       "      <td>-0.842857</td>\n",
       "      <td>-0.733333</td>\n",
       "    </tr>\n",
       "    <tr>\n",
       "      <th>2</th>\n",
       "      <td>-0.846154</td>\n",
       "      <td>0.4</td>\n",
       "      <td>-0.871429</td>\n",
       "      <td>-0.733333</td>\n",
       "    </tr>\n",
       "    <tr>\n",
       "      <th>3</th>\n",
       "      <td>-0.923077</td>\n",
       "      <td>0.2</td>\n",
       "      <td>-0.814286</td>\n",
       "      <td>-0.733333</td>\n",
       "    </tr>\n",
       "    <tr>\n",
       "      <th>4</th>\n",
       "      <td>-0.615385</td>\n",
       "      <td>1.2</td>\n",
       "      <td>-0.842857</td>\n",
       "      <td>-0.733333</td>\n",
       "    </tr>\n",
       "    <tr>\n",
       "      <th>...</th>\n",
       "      <td>...</td>\n",
       "      <td>...</td>\n",
       "      <td>...</td>\n",
       "      <td>...</td>\n",
       "    </tr>\n",
       "    <tr>\n",
       "      <th>145</th>\n",
       "      <td>0.692308</td>\n",
       "      <td>0.0</td>\n",
       "      <td>0.242857</td>\n",
       "      <td>0.666667</td>\n",
       "    </tr>\n",
       "    <tr>\n",
       "      <th>146</th>\n",
       "      <td>0.384615</td>\n",
       "      <td>-1.0</td>\n",
       "      <td>0.185714</td>\n",
       "      <td>0.400000</td>\n",
       "    </tr>\n",
       "    <tr>\n",
       "      <th>147</th>\n",
       "      <td>0.538462</td>\n",
       "      <td>0.0</td>\n",
       "      <td>0.242857</td>\n",
       "      <td>0.466667</td>\n",
       "    </tr>\n",
       "    <tr>\n",
       "      <th>148</th>\n",
       "      <td>0.307692</td>\n",
       "      <td>0.8</td>\n",
       "      <td>0.300000</td>\n",
       "      <td>0.666667</td>\n",
       "    </tr>\n",
       "    <tr>\n",
       "      <th>149</th>\n",
       "      <td>0.076923</td>\n",
       "      <td>0.0</td>\n",
       "      <td>0.214286</td>\n",
       "      <td>0.333333</td>\n",
       "    </tr>\n",
       "  </tbody>\n",
       "</table>\n",
       "<p>150 rows × 4 columns</p>\n",
       "</div>"
      ],
      "text/plain": [
       "     sepal length (cm)  sepal width (cm)  petal length (cm)  petal width (cm)\n",
       "0            -0.538462               1.0          -0.842857         -0.733333\n",
       "1            -0.692308               0.0          -0.842857         -0.733333\n",
       "2            -0.846154               0.4          -0.871429         -0.733333\n",
       "3            -0.923077               0.2          -0.814286         -0.733333\n",
       "4            -0.615385               1.2          -0.842857         -0.733333\n",
       "..                 ...               ...                ...               ...\n",
       "145           0.692308               0.0           0.242857          0.666667\n",
       "146           0.384615              -1.0           0.185714          0.400000\n",
       "147           0.538462               0.0           0.242857          0.466667\n",
       "148           0.307692               0.8           0.300000          0.666667\n",
       "149           0.076923               0.0           0.214286          0.333333\n",
       "\n",
       "[150 rows x 4 columns]"
      ]
     },
     "execution_count": 31,
     "metadata": {},
     "output_type": "execute_result"
    }
   ],
   "source": [
    "iris_df_rbscaled = pd.DataFrame(data=iris_rbscaled, columns=iris.feature_names)\n",
    "iris_df_rbscaled"
   ]
  },
  {
   "cell_type": "code",
   "execution_count": 35,
   "id": "aa604aa7",
   "metadata": {
    "ExecuteTime": {
     "end_time": "2022-07-03T21:26:01.859425Z",
     "start_time": "2022-07-03T21:26:00.106797Z"
    }
   },
   "outputs": [
    {
     "data": {
      "image/png": "[encoded data removed]",
      "text/plain": [
       "<Figure size 1440x360 with 4 Axes>"
      ]
     },
     "metadata": {
      "needs_background": "light"
     },
     "output_type": "display_data"
    }
   ],
   "source": [
    "import matplotlib.pyplot as plt\n",
    "import seaborn as sns\n",
    "fig, (ax1, ax2, ax3, ax4) = plt.subplots(ncols=4, figsize=(20,5))\n",
    "ax1.set_title('Before Scaling')\n",
    "sns.kdeplot(iris_scaled_df1['sepal length (cm)'], ax = ax1, color = 'r')\n",
    "sns.kdeplot(iris_scaled_df1['sepal width (cm)'], ax = ax1, color = 'y')\n",
    "sns.kdeplot(iris_scaled_df1['petal length (cm)'], ax = ax1, color = 'g')\n",
    "sns.kdeplot(iris_scaled_df1['petal width (cm)'], ax = ax1, color = 'b')\n",
    "ax2.set_title('Standard Scaling')\n",
    "sns.kdeplot(iris_scaled_df1['sepal length (cm)'], ax = ax2, color = 'r')\n",
    "sns.kdeplot(iris_scaled_df1['sepal width (cm)'], ax = ax2, color = 'y')\n",
    "sns.kdeplot(iris_scaled_df1['petal length (cm)'], ax = ax2, color = 'g')\n",
    "sns.kdeplot(iris_scaled_df1['petal width (cm)'], ax = ax2, color = 'b')\n",
    "ax3.set_title('MinMax Scaling')\n",
    "sns.kdeplot(iris_scaled_df1['sepal length (cm)'], ax = ax3, color = 'r')\n",
    "sns.kdeplot(iris_scaled_df1['sepal width (cm)'], ax = ax3, color = 'y')\n",
    "sns.kdeplot(iris_scaled_df1['petal length (cm)'], ax = ax3, color = 'g')\n",
    "sns.kdeplot(iris_scaled_df1['petal width (cm)'], ax = ax3, color = 'b')\n",
    "ax4.set_title('Robust Scaling')\n",
    "sns.kdeplot(iris_df_rbscaled['sepal length (cm)'], ax = ax4, color = 'r')\n",
    "sns.kdeplot(iris_df_rbscaled['sepal width (cm)'], ax = ax4, color = 'y')\n",
    "sns.kdeplot(iris_df_rbscaled['petal length (cm)'], ax = ax4, color = 'g')\n",
    "sns.kdeplot(iris_df_rbscaled['petal width (cm)'], ax = ax4, color = 'b')\n",
    "plt.show()"
   ]
  },
  {
   "cell_type": "code",
   "execution_count": null,
   "id": "57f95f83",
   "metadata": {},
   "outputs": [],
   "source": []
  }
 ],
 "metadata": {
  "kernelspec": {
   "display_name": "Python 3 (ipykernel)",
   "language": "python",
   "name": "python3"
  },
  "language_info": {
   "codemirror_mode": {
    "name": "ipython",
    "version": 3
   },
   "file_extension": ".py",
   "mimetype": "text/x-python",
   "name": "python",
   "nbconvert_exporter": "python",
   "pygments_lexer": "ipython3",
   "version": "3.9.13"
  },
  "toc": {
   "base_numbering": 1,
   "nav_menu": {},
   "number_sections": true,
   "sideBar": true,
   "skip_h1_title": false,
   "title_cell": "Table of Contents",
   "title_sidebar": "Contents",
   "toc_cell": false,
   "toc_position": {},
   "toc_section_display": true,
   "toc_window_display": false
  }
 },
 "nbformat": 4,
 "nbformat_minor": 5
}
