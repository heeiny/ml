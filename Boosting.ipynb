{
 "cells": [
  {
   "cell_type": "markdown",
   "id": "fa2d1c17",
   "metadata": {},
   "source": [
    "# Boosting"
   ]
  },
  {
   "cell_type": "code",
   "execution_count": 1,
   "id": "50c1ab1c",
   "metadata": {
    "ExecuteTime": {
     "end_time": "2022-07-05T02:40:13.092718Z",
     "start_time": "2022-07-05T02:40:11.206835Z"
    }
   },
   "outputs": [],
   "source": [
    "from sklearn.ensemble import GradientBoostingClassifier\n",
    "from sklearn.datasets import load_iris\n",
    "from sklearn.model_selection import train_test_split\n",
    "from sklearn.metrics import accuracy_score"
   ]
  },
  {
   "cell_type": "code",
   "execution_count": 2,
   "id": "a11374b9",
   "metadata": {
    "ExecuteTime": {
     "end_time": "2022-07-05T02:40:13.122758Z",
     "start_time": "2022-07-05T02:40:13.098711Z"
    }
   },
   "outputs": [],
   "source": [
    "iris = load_iris()\n",
    "X_train,X_test,y_train,y_test = train_test_split(iris.data,iris.target,test_size=0.2,random_state=110)"
   ]
  },
  {
   "cell_type": "code",
   "execution_count": 15,
   "id": "3ee75cb0",
   "metadata": {
    "ExecuteTime": {
     "end_time": "2022-07-05T01:43:05.297514Z",
     "start_time": "2022-07-05T01:43:05.288253Z"
    }
   },
   "outputs": [],
   "source": [
    "import time\n",
    "import warnings\n",
    "warnings.filterwarnings('ignore')"
   ]
  },
  {
   "cell_type": "code",
   "execution_count": 16,
   "id": "2308e5f4",
   "metadata": {
    "ExecuteTime": {
     "end_time": "2022-07-05T01:43:05.606222Z",
     "start_time": "2022-07-05T01:43:05.594252Z"
    }
   },
   "outputs": [],
   "source": [
    "# GBM 수행 시간 측정을 위함. 시작 시간 설정\n",
    "start_time = time.time()"
   ]
  },
  {
   "cell_type": "code",
   "execution_count": 17,
   "id": "ef35b4da",
   "metadata": {
    "ExecuteTime": {
     "end_time": "2022-07-05T01:43:06.168679Z",
     "start_time": "2022-07-05T01:43:05.970123Z"
    }
   },
   "outputs": [],
   "source": [
    "gb_clf = GradientBoostingClassifier(random_state=0)\n",
    "gb_clf.fit(X_train,y_train)\n",
    "gb_pred = gb_clf.predict(X_test)\n",
    "gb_accuracy = accuracy_score(y_test,gb_pred)"
   ]
  },
  {
   "cell_type": "code",
   "execution_count": 21,
   "id": "7e5f3816",
   "metadata": {
    "ExecuteTime": {
     "end_time": "2022-07-05T01:45:25.856276Z",
     "start_time": "2022-07-05T01:45:25.846295Z"
    }
   },
   "outputs": [
    {
     "name": "stdout",
     "output_type": "stream",
     "text": [
      "GBM 정확도: 0.9667\n",
      "GBM 정확도: 0.9666666666666667\n",
      "GBM 수행 시간:140.3초\n"
     ]
    }
   ],
   "source": [
    "print('GBM 정확도: {0:.4f}'.format(gb_accuracy))\n",
    "print(f'GBM 정확도: {gb_accuracy}')\n",
    "print(\"GBM 수행 시간:{0:.1f}초\".format(time.time()-start_time))"
   ]
  },
  {
   "cell_type": "markdown",
   "id": "4d4f2654",
   "metadata": {},
   "source": [
    "# GBM Hyper Parameter"
   ]
  },
  {
   "cell_type": "code",
   "execution_count": 25,
   "id": "fe428f58",
   "metadata": {
    "ExecuteTime": {
     "end_time": "2022-07-05T01:57:21.595197Z",
     "start_time": "2022-07-05T01:57:15.714899Z"
    }
   },
   "outputs": [
    {
     "name": "stdout",
     "output_type": "stream",
     "text": [
      "Fitting 2 folds for each of 4 candidates, totalling 8 fits\n",
      "최적 하이퍼 파라미터:\n",
      " {'learning_rate': 0.05, 'n_estimators': 100}\n",
      "최고 예측 정확도: 0.9500\n"
     ]
    }
   ],
   "source": [
    "from sklearn.model_selection import GridSearchCV\n",
    "\n",
    "params = {\n",
    "    'n_estimators':[100,500],\n",
    "    'learning_rate':[0.05,0.1]\n",
    "}\n",
    "\n",
    "grid_cv = GridSearchCV(gb_clf, param_grid=params, cv=2 , verbose=1)\n",
    "grid_cv.fit(X_train,y_train)\n",
    "print('최적 하이퍼 파라미터:\\n',grid_cv.best_params_)\n",
    "print('최고 예측 정확도: {0:.4f}'.format(grid_cv.best_score_))"
   ]
  },
  {
   "cell_type": "code",
   "execution_count": 30,
   "id": "79eacdc2",
   "metadata": {
    "ExecuteTime": {
     "end_time": "2022-07-05T02:01:14.625681Z",
     "start_time": "2022-07-05T02:01:14.607727Z"
    }
   },
   "outputs": [
    {
     "name": "stdout",
     "output_type": "stream",
     "text": [
      "0.9666666666666667\n"
     ]
    }
   ],
   "source": [
    "pred = grid_cv.predict(X_test)\n",
    "acc = accuracy_score(pred,y_test)\n",
    "print(acc)"
   ]
  },
  {
   "cell_type": "code",
   "execution_count": 29,
   "id": "5edbeade",
   "metadata": {
    "ExecuteTime": {
     "end_time": "2022-07-05T01:58:44.742559Z",
     "start_time": "2022-07-05T01:58:44.726602Z"
    }
   },
   "outputs": [
    {
     "name": "stdout",
     "output_type": "stream",
     "text": [
      "0.9666666666666667\n"
     ]
    }
   ],
   "source": [
    "pred = grid_cv.best_estimator_.predict(X_test)\n",
    "acc = accuracy_score(pred,y_test)\n",
    "print(acc)"
   ]
  },
  {
   "cell_type": "markdown",
   "id": "bdb84164",
   "metadata": {},
   "source": [
    "# XGBoost Documentation \n",
    "https://seethefuture.tistory.com/91\n",
    "https://xgboost.readthedocs.io/en/stable/"
   ]
  },
  {
   "cell_type": "code",
   "execution_count": 3,
   "id": "8046739b",
   "metadata": {
    "ExecuteTime": {
     "end_time": "2022-07-05T02:40:17.958330Z",
     "start_time": "2022-07-05T02:40:17.947362Z"
    }
   },
   "outputs": [],
   "source": [
    "from sklearn.ensemble import GradientBoostingClassifier\n",
    "from sklearn.datasets import load_iris"
   ]
  },
  {
   "cell_type": "code",
   "execution_count": 4,
   "id": "c909de46",
   "metadata": {
    "ExecuteTime": {
     "end_time": "2022-07-05T02:40:19.619821Z",
     "start_time": "2022-07-05T02:40:18.564505Z"
    }
   },
   "outputs": [],
   "source": [
    "import xgboost as xgb\n",
    "from xgboost import XGBClassifier"
   ]
  },
  {
   "cell_type": "code",
   "execution_count": 5,
   "id": "716bf7e4",
   "metadata": {
    "ExecuteTime": {
     "end_time": "2022-07-05T02:40:20.614520Z",
     "start_time": "2022-07-05T02:40:20.438991Z"
    }
   },
   "outputs": [
    {
     "name": "stdout",
     "output_type": "stream",
     "text": [
      "0.9666666666666667\n"
     ]
    }
   ],
   "source": [
    "# Extreme Gradient Boosting (xgboost) 모델 사용\n",
    "\n",
    "# 1. 모델 선언\n",
    "xgb  = XGBClassifier()\n",
    "\n",
    "# 2. 모델 훈련 fit()함수\n",
    "xgb.fit(X_train, y_train)\n",
    "\n",
    "# 3. 모델 예측 predict()함수\n",
    "Y_pred = xgb.predict(X_test)\n",
    "\n",
    "# 4. score()\n",
    "#xgb.score(Y_pred, y_train)\n",
    "\n",
    "#xgb.score(X_train,y_train)\n",
    "from sklearn.metrics import accuracy_score\n",
    "\n",
    "acc = accuracy_score(Y_pred,y_test)\n",
    "print(acc)"
   ]
  },
  {
   "cell_type": "code",
   "execution_count": null,
   "id": "7fc5edc8",
   "metadata": {},
   "outputs": [],
   "source": []
  }
 ],
 "metadata": {
  "kernelspec": {
   "display_name": "Python 3 (ipykernel)",
   "language": "python",
   "name": "python3"
  },
  "language_info": {
   "codemirror_mode": {
    "name": "ipython",
    "version": 3
   },
   "file_extension": ".py",
   "mimetype": "text/x-python",
   "name": "python",
   "nbconvert_exporter": "python",
   "pygments_lexer": "ipython3",
   "version": "3.9.13"
  },
  "toc": {
   "base_numbering": 1,
   "nav_menu": {},
   "number_sections": true,
   "sideBar": true,
   "skip_h1_title": false,
   "title_cell": "Table of Contents",
   "title_sidebar": "Contents",
   "toc_cell": false,
   "toc_position": {},
   "toc_section_display": true,
   "toc_window_display": false
  }
 },
 "nbformat": 4,
 "nbformat_minor": 5
}
